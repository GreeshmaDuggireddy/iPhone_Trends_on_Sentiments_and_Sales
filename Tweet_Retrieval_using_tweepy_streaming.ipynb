{
  "cells": [
    {
      "cell_type": "code",
      "execution_count": null,
      "metadata": {
        "id": "H4VgeM2111RH"
      },
      "outputs": [],
      "source": [
        "#import configparser \n",
        "#config = configparser.RawConfigParser()"
      ]
    },
    {
      "cell_type": "code",
      "execution_count": null,
      "metadata": {
        "id": "m1iHHyXa1n7M"
      },
      "outputs": [],
      "source": [
        "import tweepy\n",
        "from tweepy.streaming import StreamListener\n",
        "from tweepy import OAuthHandler\n",
        "from tweepy import Stream\n",
        "import time\n",
        "import pandas as pd"
      ]
    },
    {
      "cell_type": "code",
      "execution_count": null,
      "metadata": {
        "id": "sKKK0ZCY10Ue"
      },
      "outputs": [],
      "source": [
        "consumer_key = \"\"\n",
        "consumer_secret = \"\"\n",
        "access_token = \"\"\n",
        "access_token_secret = \"\"\n",
        "auth = tweepy.OAuthHandler(consumer_key, consumer_secret)\n",
        "auth.set_access_token(access_token, access_token_secret)\n",
        "api = tweepy.API(auth,wait_on_rate_limit=True)"
      ]
    },
    {
      "cell_type": "code",
      "execution_count": null,
      "metadata": {
        "id": "bfeBZ2hf60Fp"
      },
      "outputs": [],
      "source": [
        "text_query = 'iphone 14'\n",
        "count = 10000\n",
        "try:\n",
        " tweets = tweepy.Cursor(api.search,q=text_query, lang='en').items(count)\n",
        " tweets_list = [[tweet.text,tweet.user.screen_name,tweet.user.location, tweet.source, tweet.created_at] for tweet in tweets]\n",
        " tweets_df = pd.DataFrame(tweets_list)\n",
        "except BaseException as e:\n",
        "    print('failed on_status,',str(e))\n",
        "    time.sleep(3)"
      ]
    },
    {
      "cell_type": "code",
      "source": [
        "for tweet in tweets:\n",
        "  print(tweet._json.keys())"
      ],
      "metadata": {
        "id": "FaQYLn5UMvJR"
      },
      "execution_count": null,
      "outputs": []
    },
    {
      "cell_type": "code",
      "execution_count": null,
      "metadata": {
        "colab": {
          "base_uri": "https://localhost:8080/",
          "height": 424
        },
        "id": "Ybz3mWsP63oJ",
        "outputId": "db5abbc8-6213-4aed-f879-3b530f558fb6"
      },
      "outputs": [
        {
          "output_type": "execute_result",
          "data": {
            "text/plain": [
              "                                                      0                1  \\\n",
              "0     @MsterMiles @BOHHDDHEEE YOU ARE Fk  man  na yo...    ElishaFreedom   \n",
              "1     https://t.co/crU8Qh3lDZ Get a Brand New iPhone...     promo_survey   \n",
              "2     Man Rescued in Alaska After Activating iPhone ...       LifeboatHQ   \n",
              "3     iPhone 14 Plus Sees Lackluster Demand; Display...  India24hoursliv   \n",
              "4     RT @sondesix: Which one is the more worthy Pho...       JerThaPlug   \n",
              "...                                                 ...              ...   \n",
              "9995  RT @Shehusky: Comparing Yusuf Datti Baba Ahmed...         fleaptng   \n",
              "9996  RT @mvouchercodes1: Win A iPhone 14 Pro Max #G...  ElizabethTurvey   \n",
              "9997  RT @theapplehub: The Emergency SOS via Satelli...     Lorisbihouee   \n",
              "9998  Cleaner wey Dey use IPhone 14😭 https://t.co/gU...       Ugochuks_D   \n",
              "9999  RT @DukeEbbz: Register today and enjoy big odd...    _BlackCouples   \n",
              "\n",
              "                            2                    3                   4  \n",
              "0                              Twitter for Android 2022-12-04 22:20:51  \n",
              "1     England, United Kingdom      Twitter Web App 2022-12-04 22:20:25  \n",
              "2      Safeguarding Humanity!         lifeboat.com 2022-12-04 22:20:11  \n",
              "3                                  Twitter Web App 2022-12-04 22:20:02  \n",
              "4                  Matola, Mz   Twitter for iPhone 2022-12-04 22:19:52  \n",
              "...                       ...                  ...                 ...  \n",
              "9995                           Twitter for Android 2022-12-02 11:49:30  \n",
              "9996                  Bristol  Twitter for Android 2022-12-02 11:49:22  \n",
              "9997          Paris | Ajaccio     Tweetbot for iΟS 2022-12-02 11:49:15  \n",
              "9998              lagos state   Twitter for iPhone 2022-12-02 11:49:02  \n",
              "9999                   Uganda      Twitter Web App 2022-12-02 11:48:51  \n",
              "\n",
              "[10000 rows x 5 columns]"
            ],
            "text/html": [
              "\n",
              "  <div id=\"df-aa9ea942-38bb-462b-af84-eefcc0e95d53\">\n",
              "    <div class=\"colab-df-container\">\n",
              "      <div>\n",
              "<style scoped>\n",
              "    .dataframe tbody tr th:only-of-type {\n",
              "        vertical-align: middle;\n",
              "    }\n",
              "\n",
              "    .dataframe tbody tr th {\n",
              "        vertical-align: top;\n",
              "    }\n",
              "\n",
              "    .dataframe thead th {\n",
              "        text-align: right;\n",
              "    }\n",
              "</style>\n",
              "<table border=\"1\" class=\"dataframe\">\n",
              "  <thead>\n",
              "    <tr style=\"text-align: right;\">\n",
              "      <th></th>\n",
              "      <th>0</th>\n",
              "      <th>1</th>\n",
              "      <th>2</th>\n",
              "      <th>3</th>\n",
              "      <th>4</th>\n",
              "    </tr>\n",
              "  </thead>\n",
              "  <tbody>\n",
              "    <tr>\n",
              "      <th>0</th>\n",
              "      <td>@MsterMiles @BOHHDDHEEE YOU ARE Fk  man  na yo...</td>\n",
              "      <td>ElishaFreedom</td>\n",
              "      <td></td>\n",
              "      <td>Twitter for Android</td>\n",
              "      <td>2022-12-04 22:20:51</td>\n",
              "    </tr>\n",
              "    <tr>\n",
              "      <th>1</th>\n",
              "      <td>https://t.co/crU8Qh3lDZ Get a Brand New iPhone...</td>\n",
              "      <td>promo_survey</td>\n",
              "      <td>England, United Kingdom</td>\n",
              "      <td>Twitter Web App</td>\n",
              "      <td>2022-12-04 22:20:25</td>\n",
              "    </tr>\n",
              "    <tr>\n",
              "      <th>2</th>\n",
              "      <td>Man Rescued in Alaska After Activating iPhone ...</td>\n",
              "      <td>LifeboatHQ</td>\n",
              "      <td>Safeguarding Humanity!</td>\n",
              "      <td>lifeboat.com</td>\n",
              "      <td>2022-12-04 22:20:11</td>\n",
              "    </tr>\n",
              "    <tr>\n",
              "      <th>3</th>\n",
              "      <td>iPhone 14 Plus Sees Lackluster Demand; Display...</td>\n",
              "      <td>India24hoursliv</td>\n",
              "      <td></td>\n",
              "      <td>Twitter Web App</td>\n",
              "      <td>2022-12-04 22:20:02</td>\n",
              "    </tr>\n",
              "    <tr>\n",
              "      <th>4</th>\n",
              "      <td>RT @sondesix: Which one is the more worthy Pho...</td>\n",
              "      <td>JerThaPlug</td>\n",
              "      <td>Matola, Mz</td>\n",
              "      <td>Twitter for iPhone</td>\n",
              "      <td>2022-12-04 22:19:52</td>\n",
              "    </tr>\n",
              "    <tr>\n",
              "      <th>...</th>\n",
              "      <td>...</td>\n",
              "      <td>...</td>\n",
              "      <td>...</td>\n",
              "      <td>...</td>\n",
              "      <td>...</td>\n",
              "    </tr>\n",
              "    <tr>\n",
              "      <th>9995</th>\n",
              "      <td>RT @Shehusky: Comparing Yusuf Datti Baba Ahmed...</td>\n",
              "      <td>fleaptng</td>\n",
              "      <td></td>\n",
              "      <td>Twitter for Android</td>\n",
              "      <td>2022-12-02 11:49:30</td>\n",
              "    </tr>\n",
              "    <tr>\n",
              "      <th>9996</th>\n",
              "      <td>RT @mvouchercodes1: Win A iPhone 14 Pro Max #G...</td>\n",
              "      <td>ElizabethTurvey</td>\n",
              "      <td>Bristol</td>\n",
              "      <td>Twitter for Android</td>\n",
              "      <td>2022-12-02 11:49:22</td>\n",
              "    </tr>\n",
              "    <tr>\n",
              "      <th>9997</th>\n",
              "      <td>RT @theapplehub: The Emergency SOS via Satelli...</td>\n",
              "      <td>Lorisbihouee</td>\n",
              "      <td>Paris | Ajaccio</td>\n",
              "      <td>Tweetbot for iΟS</td>\n",
              "      <td>2022-12-02 11:49:15</td>\n",
              "    </tr>\n",
              "    <tr>\n",
              "      <th>9998</th>\n",
              "      <td>Cleaner wey Dey use IPhone 14😭 https://t.co/gU...</td>\n",
              "      <td>Ugochuks_D</td>\n",
              "      <td>lagos state</td>\n",
              "      <td>Twitter for iPhone</td>\n",
              "      <td>2022-12-02 11:49:02</td>\n",
              "    </tr>\n",
              "    <tr>\n",
              "      <th>9999</th>\n",
              "      <td>RT @DukeEbbz: Register today and enjoy big odd...</td>\n",
              "      <td>_BlackCouples</td>\n",
              "      <td>Uganda</td>\n",
              "      <td>Twitter Web App</td>\n",
              "      <td>2022-12-02 11:48:51</td>\n",
              "    </tr>\n",
              "  </tbody>\n",
              "</table>\n",
              "<p>10000 rows × 5 columns</p>\n",
              "</div>\n",
              "      <button class=\"colab-df-convert\" onclick=\"convertToInteractive('df-aa9ea942-38bb-462b-af84-eefcc0e95d53')\"\n",
              "              title=\"Convert this dataframe to an interactive table.\"\n",
              "              style=\"display:none;\">\n",
              "        \n",
              "  <svg xmlns=\"http://www.w3.org/2000/svg\" height=\"24px\"viewBox=\"0 0 24 24\"\n",
              "       width=\"24px\">\n",
              "    <path d=\"M0 0h24v24H0V0z\" fill=\"none\"/>\n",
              "    <path d=\"M18.56 5.44l.94 2.06.94-2.06 2.06-.94-2.06-.94-.94-2.06-.94 2.06-2.06.94zm-11 1L8.5 8.5l.94-2.06 2.06-.94-2.06-.94L8.5 2.5l-.94 2.06-2.06.94zm10 10l.94 2.06.94-2.06 2.06-.94-2.06-.94-.94-2.06-.94 2.06-2.06.94z\"/><path d=\"M17.41 7.96l-1.37-1.37c-.4-.4-.92-.59-1.43-.59-.52 0-1.04.2-1.43.59L10.3 9.45l-7.72 7.72c-.78.78-.78 2.05 0 2.83L4 21.41c.39.39.9.59 1.41.59.51 0 1.02-.2 1.41-.59l7.78-7.78 2.81-2.81c.8-.78.8-2.07 0-2.86zM5.41 20L4 18.59l7.72-7.72 1.47 1.35L5.41 20z\"/>\n",
              "  </svg>\n",
              "      </button>\n",
              "      \n",
              "  <style>\n",
              "    .colab-df-container {\n",
              "      display:flex;\n",
              "      flex-wrap:wrap;\n",
              "      gap: 12px;\n",
              "    }\n",
              "\n",
              "    .colab-df-convert {\n",
              "      background-color: #E8F0FE;\n",
              "      border: none;\n",
              "      border-radius: 50%;\n",
              "      cursor: pointer;\n",
              "      display: none;\n",
              "      fill: #1967D2;\n",
              "      height: 32px;\n",
              "      padding: 0 0 0 0;\n",
              "      width: 32px;\n",
              "    }\n",
              "\n",
              "    .colab-df-convert:hover {\n",
              "      background-color: #E2EBFA;\n",
              "      box-shadow: 0px 1px 2px rgba(60, 64, 67, 0.3), 0px 1px 3px 1px rgba(60, 64, 67, 0.15);\n",
              "      fill: #174EA6;\n",
              "    }\n",
              "\n",
              "    [theme=dark] .colab-df-convert {\n",
              "      background-color: #3B4455;\n",
              "      fill: #D2E3FC;\n",
              "    }\n",
              "\n",
              "    [theme=dark] .colab-df-convert:hover {\n",
              "      background-color: #434B5C;\n",
              "      box-shadow: 0px 1px 3px 1px rgba(0, 0, 0, 0.15);\n",
              "      filter: drop-shadow(0px 1px 2px rgba(0, 0, 0, 0.3));\n",
              "      fill: #FFFFFF;\n",
              "    }\n",
              "  </style>\n",
              "\n",
              "      <script>\n",
              "        const buttonEl =\n",
              "          document.querySelector('#df-aa9ea942-38bb-462b-af84-eefcc0e95d53 button.colab-df-convert');\n",
              "        buttonEl.style.display =\n",
              "          google.colab.kernel.accessAllowed ? 'block' : 'none';\n",
              "\n",
              "        async function convertToInteractive(key) {\n",
              "          const element = document.querySelector('#df-aa9ea942-38bb-462b-af84-eefcc0e95d53');\n",
              "          const dataTable =\n",
              "            await google.colab.kernel.invokeFunction('convertToInteractive',\n",
              "                                                     [key], {});\n",
              "          if (!dataTable) return;\n",
              "\n",
              "          const docLinkHtml = 'Like what you see? Visit the ' +\n",
              "            '<a target=\"_blank\" href=https://colab.research.google.com/notebooks/data_table.ipynb>data table notebook</a>'\n",
              "            + ' to learn more about interactive tables.';\n",
              "          element.innerHTML = '';\n",
              "          dataTable['output_type'] = 'display_data';\n",
              "          await google.colab.output.renderOutput(dataTable, element);\n",
              "          const docLink = document.createElement('div');\n",
              "          docLink.innerHTML = docLinkHtml;\n",
              "          element.appendChild(docLink);\n",
              "        }\n",
              "      </script>\n",
              "    </div>\n",
              "  </div>\n",
              "  "
            ]
          },
          "metadata": {},
          "execution_count": 71
        }
      ],
      "source": [
        "tweets_df"
      ]
    },
    {
      "cell_type": "code",
      "execution_count": null,
      "metadata": {
        "colab": {
          "base_uri": "https://localhost:8080/",
          "height": 35
        },
        "id": "Z8K9AOL63Anb",
        "outputId": "47cd8cbf-a20b-4e37-facc-3c81f61787f7"
      },
      "outputs": [
        {
          "output_type": "execute_result",
          "data": {
            "text/plain": [
              "''"
            ],
            "application/vnd.google.colaboratory.intrinsic+json": {
              "type": "string"
            }
          },
          "metadata": {},
          "execution_count": 74
        }
      ],
      "source": [
        "tweets_df.loc[0][2]"
      ]
    },
    {
      "cell_type": "code",
      "execution_count": null,
      "metadata": {
        "id": "vwSF9vp42eym"
      },
      "outputs": [],
      "source": [
        "count = 0\n",
        "indexs = []\n",
        "for i in range(0, len(tweets_df)):\n",
        "  if(\"win\" in tweets_df.loc[i][2].lower()):\n",
        "    indexs.append(i)\n",
        "    count += 1"
      ]
    },
    {
      "cell_type": "code",
      "execution_count": null,
      "metadata": {
        "id": "0o5R81q_33Us"
      },
      "outputs": [],
      "source": [
        "backup = tweets_df.copy()"
      ]
    },
    {
      "cell_type": "code",
      "execution_count": null,
      "metadata": {
        "id": "sjmtYjbK3iov"
      },
      "outputs": [],
      "source": [
        "refined_tweets_df = tweets_df.drop(tweets_df.index[indexs])"
      ]
    },
    {
      "cell_type": "code",
      "execution_count": null,
      "metadata": {
        "colab": {
          "base_uri": "https://localhost:8080/",
          "height": 424
        },
        "id": "tTJNMjxv3QG3",
        "outputId": "5c1caa63-d55c-42a8-fa4f-6bda547d5eac"
      },
      "outputs": [
        {
          "output_type": "execute_result",
          "data": {
            "text/plain": [
              "                                                      0                1  \\\n",
              "0     @MsterMiles @BOHHDDHEEE YOU ARE Fk  man  na yo...    ElishaFreedom   \n",
              "1     https://t.co/crU8Qh3lDZ Get a Brand New iPhone...     promo_survey   \n",
              "2     Man Rescued in Alaska After Activating iPhone ...       LifeboatHQ   \n",
              "3     iPhone 14 Plus Sees Lackluster Demand; Display...  India24hoursliv   \n",
              "4     RT @sondesix: Which one is the more worthy Pho...       JerThaPlug   \n",
              "...                                                 ...              ...   \n",
              "9995  RT @Shehusky: Comparing Yusuf Datti Baba Ahmed...         fleaptng   \n",
              "9996  RT @mvouchercodes1: Win A iPhone 14 Pro Max #G...  ElizabethTurvey   \n",
              "9997  RT @theapplehub: The Emergency SOS via Satelli...     Lorisbihouee   \n",
              "9998  Cleaner wey Dey use IPhone 14😭 https://t.co/gU...       Ugochuks_D   \n",
              "9999  RT @DukeEbbz: Register today and enjoy big odd...    _BlackCouples   \n",
              "\n",
              "                            2                    3                   4  \n",
              "0                              Twitter for Android 2022-12-04 22:20:51  \n",
              "1     England, United Kingdom      Twitter Web App 2022-12-04 22:20:25  \n",
              "2      Safeguarding Humanity!         lifeboat.com 2022-12-04 22:20:11  \n",
              "3                                  Twitter Web App 2022-12-04 22:20:02  \n",
              "4                  Matola, Mz   Twitter for iPhone 2022-12-04 22:19:52  \n",
              "...                       ...                  ...                 ...  \n",
              "9995                           Twitter for Android 2022-12-02 11:49:30  \n",
              "9996                  Bristol  Twitter for Android 2022-12-02 11:49:22  \n",
              "9997          Paris | Ajaccio     Tweetbot for iΟS 2022-12-02 11:49:15  \n",
              "9998              lagos state   Twitter for iPhone 2022-12-02 11:49:02  \n",
              "9999                   Uganda      Twitter Web App 2022-12-02 11:48:51  \n",
              "\n",
              "[9997 rows x 5 columns]"
            ],
            "text/html": [
              "\n",
              "  <div id=\"df-b408f665-f4ea-425f-9927-c8d40d270da0\">\n",
              "    <div class=\"colab-df-container\">\n",
              "      <div>\n",
              "<style scoped>\n",
              "    .dataframe tbody tr th:only-of-type {\n",
              "        vertical-align: middle;\n",
              "    }\n",
              "\n",
              "    .dataframe tbody tr th {\n",
              "        vertical-align: top;\n",
              "    }\n",
              "\n",
              "    .dataframe thead th {\n",
              "        text-align: right;\n",
              "    }\n",
              "</style>\n",
              "<table border=\"1\" class=\"dataframe\">\n",
              "  <thead>\n",
              "    <tr style=\"text-align: right;\">\n",
              "      <th></th>\n",
              "      <th>0</th>\n",
              "      <th>1</th>\n",
              "      <th>2</th>\n",
              "      <th>3</th>\n",
              "      <th>4</th>\n",
              "    </tr>\n",
              "  </thead>\n",
              "  <tbody>\n",
              "    <tr>\n",
              "      <th>0</th>\n",
              "      <td>@MsterMiles @BOHHDDHEEE YOU ARE Fk  man  na yo...</td>\n",
              "      <td>ElishaFreedom</td>\n",
              "      <td></td>\n",
              "      <td>Twitter for Android</td>\n",
              "      <td>2022-12-04 22:20:51</td>\n",
              "    </tr>\n",
              "    <tr>\n",
              "      <th>1</th>\n",
              "      <td>https://t.co/crU8Qh3lDZ Get a Brand New iPhone...</td>\n",
              "      <td>promo_survey</td>\n",
              "      <td>England, United Kingdom</td>\n",
              "      <td>Twitter Web App</td>\n",
              "      <td>2022-12-04 22:20:25</td>\n",
              "    </tr>\n",
              "    <tr>\n",
              "      <th>2</th>\n",
              "      <td>Man Rescued in Alaska After Activating iPhone ...</td>\n",
              "      <td>LifeboatHQ</td>\n",
              "      <td>Safeguarding Humanity!</td>\n",
              "      <td>lifeboat.com</td>\n",
              "      <td>2022-12-04 22:20:11</td>\n",
              "    </tr>\n",
              "    <tr>\n",
              "      <th>3</th>\n",
              "      <td>iPhone 14 Plus Sees Lackluster Demand; Display...</td>\n",
              "      <td>India24hoursliv</td>\n",
              "      <td></td>\n",
              "      <td>Twitter Web App</td>\n",
              "      <td>2022-12-04 22:20:02</td>\n",
              "    </tr>\n",
              "    <tr>\n",
              "      <th>4</th>\n",
              "      <td>RT @sondesix: Which one is the more worthy Pho...</td>\n",
              "      <td>JerThaPlug</td>\n",
              "      <td>Matola, Mz</td>\n",
              "      <td>Twitter for iPhone</td>\n",
              "      <td>2022-12-04 22:19:52</td>\n",
              "    </tr>\n",
              "    <tr>\n",
              "      <th>...</th>\n",
              "      <td>...</td>\n",
              "      <td>...</td>\n",
              "      <td>...</td>\n",
              "      <td>...</td>\n",
              "      <td>...</td>\n",
              "    </tr>\n",
              "    <tr>\n",
              "      <th>9995</th>\n",
              "      <td>RT @Shehusky: Comparing Yusuf Datti Baba Ahmed...</td>\n",
              "      <td>fleaptng</td>\n",
              "      <td></td>\n",
              "      <td>Twitter for Android</td>\n",
              "      <td>2022-12-02 11:49:30</td>\n",
              "    </tr>\n",
              "    <tr>\n",
              "      <th>9996</th>\n",
              "      <td>RT @mvouchercodes1: Win A iPhone 14 Pro Max #G...</td>\n",
              "      <td>ElizabethTurvey</td>\n",
              "      <td>Bristol</td>\n",
              "      <td>Twitter for Android</td>\n",
              "      <td>2022-12-02 11:49:22</td>\n",
              "    </tr>\n",
              "    <tr>\n",
              "      <th>9997</th>\n",
              "      <td>RT @theapplehub: The Emergency SOS via Satelli...</td>\n",
              "      <td>Lorisbihouee</td>\n",
              "      <td>Paris | Ajaccio</td>\n",
              "      <td>Tweetbot for iΟS</td>\n",
              "      <td>2022-12-02 11:49:15</td>\n",
              "    </tr>\n",
              "    <tr>\n",
              "      <th>9998</th>\n",
              "      <td>Cleaner wey Dey use IPhone 14😭 https://t.co/gU...</td>\n",
              "      <td>Ugochuks_D</td>\n",
              "      <td>lagos state</td>\n",
              "      <td>Twitter for iPhone</td>\n",
              "      <td>2022-12-02 11:49:02</td>\n",
              "    </tr>\n",
              "    <tr>\n",
              "      <th>9999</th>\n",
              "      <td>RT @DukeEbbz: Register today and enjoy big odd...</td>\n",
              "      <td>_BlackCouples</td>\n",
              "      <td>Uganda</td>\n",
              "      <td>Twitter Web App</td>\n",
              "      <td>2022-12-02 11:48:51</td>\n",
              "    </tr>\n",
              "  </tbody>\n",
              "</table>\n",
              "<p>9997 rows × 5 columns</p>\n",
              "</div>\n",
              "      <button class=\"colab-df-convert\" onclick=\"convertToInteractive('df-b408f665-f4ea-425f-9927-c8d40d270da0')\"\n",
              "              title=\"Convert this dataframe to an interactive table.\"\n",
              "              style=\"display:none;\">\n",
              "        \n",
              "  <svg xmlns=\"http://www.w3.org/2000/svg\" height=\"24px\"viewBox=\"0 0 24 24\"\n",
              "       width=\"24px\">\n",
              "    <path d=\"M0 0h24v24H0V0z\" fill=\"none\"/>\n",
              "    <path d=\"M18.56 5.44l.94 2.06.94-2.06 2.06-.94-2.06-.94-.94-2.06-.94 2.06-2.06.94zm-11 1L8.5 8.5l.94-2.06 2.06-.94-2.06-.94L8.5 2.5l-.94 2.06-2.06.94zm10 10l.94 2.06.94-2.06 2.06-.94-2.06-.94-.94-2.06-.94 2.06-2.06.94z\"/><path d=\"M17.41 7.96l-1.37-1.37c-.4-.4-.92-.59-1.43-.59-.52 0-1.04.2-1.43.59L10.3 9.45l-7.72 7.72c-.78.78-.78 2.05 0 2.83L4 21.41c.39.39.9.59 1.41.59.51 0 1.02-.2 1.41-.59l7.78-7.78 2.81-2.81c.8-.78.8-2.07 0-2.86zM5.41 20L4 18.59l7.72-7.72 1.47 1.35L5.41 20z\"/>\n",
              "  </svg>\n",
              "      </button>\n",
              "      \n",
              "  <style>\n",
              "    .colab-df-container {\n",
              "      display:flex;\n",
              "      flex-wrap:wrap;\n",
              "      gap: 12px;\n",
              "    }\n",
              "\n",
              "    .colab-df-convert {\n",
              "      background-color: #E8F0FE;\n",
              "      border: none;\n",
              "      border-radius: 50%;\n",
              "      cursor: pointer;\n",
              "      display: none;\n",
              "      fill: #1967D2;\n",
              "      height: 32px;\n",
              "      padding: 0 0 0 0;\n",
              "      width: 32px;\n",
              "    }\n",
              "\n",
              "    .colab-df-convert:hover {\n",
              "      background-color: #E2EBFA;\n",
              "      box-shadow: 0px 1px 2px rgba(60, 64, 67, 0.3), 0px 1px 3px 1px rgba(60, 64, 67, 0.15);\n",
              "      fill: #174EA6;\n",
              "    }\n",
              "\n",
              "    [theme=dark] .colab-df-convert {\n",
              "      background-color: #3B4455;\n",
              "      fill: #D2E3FC;\n",
              "    }\n",
              "\n",
              "    [theme=dark] .colab-df-convert:hover {\n",
              "      background-color: #434B5C;\n",
              "      box-shadow: 0px 1px 3px 1px rgba(0, 0, 0, 0.15);\n",
              "      filter: drop-shadow(0px 1px 2px rgba(0, 0, 0, 0.3));\n",
              "      fill: #FFFFFF;\n",
              "    }\n",
              "  </style>\n",
              "\n",
              "      <script>\n",
              "        const buttonEl =\n",
              "          document.querySelector('#df-b408f665-f4ea-425f-9927-c8d40d270da0 button.colab-df-convert');\n",
              "        buttonEl.style.display =\n",
              "          google.colab.kernel.accessAllowed ? 'block' : 'none';\n",
              "\n",
              "        async function convertToInteractive(key) {\n",
              "          const element = document.querySelector('#df-b408f665-f4ea-425f-9927-c8d40d270da0');\n",
              "          const dataTable =\n",
              "            await google.colab.kernel.invokeFunction('convertToInteractive',\n",
              "                                                     [key], {});\n",
              "          if (!dataTable) return;\n",
              "\n",
              "          const docLinkHtml = 'Like what you see? Visit the ' +\n",
              "            '<a target=\"_blank\" href=https://colab.research.google.com/notebooks/data_table.ipynb>data table notebook</a>'\n",
              "            + ' to learn more about interactive tables.';\n",
              "          element.innerHTML = '';\n",
              "          dataTable['output_type'] = 'display_data';\n",
              "          await google.colab.output.renderOutput(dataTable, element);\n",
              "          const docLink = document.createElement('div');\n",
              "          docLink.innerHTML = docLinkHtml;\n",
              "          element.appendChild(docLink);\n",
              "        }\n",
              "      </script>\n",
              "    </div>\n",
              "  </div>\n",
              "  "
            ]
          },
          "metadata": {},
          "execution_count": 82
        }
      ],
      "source": [
        "refined_tweets_df"
      ]
    },
    {
      "cell_type": "code",
      "execution_count": null,
      "metadata": {
        "id": "85DPY0ANh4uU"
      },
      "outputs": [],
      "source": [
        "refined_tweets_df.reset_index(drop=True, inplace=True)"
      ]
    },
    {
      "cell_type": "code",
      "execution_count": null,
      "metadata": {
        "id": "MlfcV4y2h8rr"
      },
      "outputs": [],
      "source": [
        "tweets_df.to_csv(\"Iphone_14_tweets.csv\")"
      ]
    },
    {
      "cell_type": "markdown",
      "metadata": {
        "id": "xG5YDrziU3Uy"
      },
      "source": [
        "---\n",
        "Expert reviewer datasets\n",
        "\n",
        "---\n",
        "Terminated this part, since there were less than 10 tweets from thw biggest phone reviewers - This can be mainly because they post the videos and short vlogs to express there opinion related to the phone and it's features."
      ]
    },
    {
      "cell_type": "code",
      "execution_count": null,
      "metadata": {
        "id": "C9Ht7WAXU2uQ"
      },
      "outputs": [],
      "source": [
        "'''text_query = 'iphone 14'\n",
        "count = 50\n",
        "try:\n",
        " # Creation of query method using parameters\n",
        " tweets = api.user_timeline(q=text_query, screen_name='mkbhd', count=50)\n",
        " #tweets = tweepy.Cursor(api.search,q=text_query, since='2022-02-01', lang='en', screen_name='mkbhd', retweeted='False').items(count)\n",
        " for tweet in tweets:\n",
        "   print(tweet._json.keys())\n",
        "   print(tweet._json['user']['screen_name'])\n",
        "   break\n",
        "\n",
        " # Pulling information from tweets iterable object\n",
        " tweets_list = [[tweet.geo,tweet.text,tweet.user.screen_name,tweet.user.location, tweet.source]for tweet in tweets]\n",
        " \n",
        " # Creation of dataframe from tweets list\n",
        " # Add or remove columns as you remove tweet information\n",
        " tweets_df = pd.DataFrame(tweets_list)\n",
        " \n",
        "except BaseException as e:\n",
        "    print('failed on_status,',str(e))\n",
        "    time.sleep(3)'''"
      ]
    },
    {
      "cell_type": "code",
      "execution_count": null,
      "metadata": {
        "id": "nX2bPlIWZ7g1"
      },
      "outputs": [],
      "source": [
        "'''for tweet in tweets:\n",
        "   print(tweet._json.keys)\n",
        "   break'''"
      ]
    },
    {
      "cell_type": "code",
      "execution_count": null,
      "metadata": {
        "id": "WyPY-jYaWxXn"
      },
      "outputs": [],
      "source": [
        "'''for tweet in tweets_df[1]:\n",
        "  if(\"iphone 14\".lower() in tweet.lower()):\n",
        "    print(tweet)'''"
      ]
    },
    {
      "cell_type": "code",
      "execution_count": null,
      "metadata": {
        "id": "9vY4FPNcYt7G"
      },
      "outputs": [],
      "source": [
        "'''!pip install snscrape'''"
      ]
    },
    {
      "cell_type": "code",
      "execution_count": null,
      "metadata": {
        "id": "mR2M__SDeJmm"
      },
      "outputs": [],
      "source": [
        "'''import snscrape.modules.twitter as sntwitter\n",
        "import pandas as pd\n",
        "\n",
        "# Creating list to append tweet data to\n",
        "attributes_container = []\n",
        "\n",
        "# Using TwitterSearchScraper to scrape data and append tweets to list\n",
        "for i,tweet in enumerate(sntwitter.TwitterSearchScraper('\"iphone\" (from:mkbhd) lang:en until:2022-08-13 since:2022-02-01').get_items()):\n",
        "    if i>1500:\n",
        "        break\n",
        "    attributes_container.append([tweet.user.username, tweet.date, tweet.likeCount, tweet.sourceLabel, tweet.content])\n",
        "    \n",
        "# Creating a dataframe to load the list\n",
        "tweets_df = pd.DataFrame(attributes_container, columns=[\"User\", \"Date Created\", \"Number of Likes\", \"Source of Tweet\", \"Tweet\"])'''"
      ]
    }
  ],
  "metadata": {
    "colab": {
      "provenance": []
    },
    "kernelspec": {
      "display_name": "Python 3",
      "name": "python3"
    },
    "language_info": {
      "name": "python"
    }
  },
  "nbformat": 4,
  "nbformat_minor": 0
}